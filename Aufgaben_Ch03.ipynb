{
 "cells": [
  {
   "cell_type": "markdown",
   "metadata": {},
   "source": [
    "# Programmieraufgaben – Python"
   ]
  },
  {
   "cell_type": "markdown",
   "metadata": {},
   "source": [
    "## Native Python Data Structures"
   ]
  },
  {
   "cell_type": "markdown",
   "metadata": {},
   "source": [
    "#### Aufgabe 1: \n",
    "- Implementiere eine einfache Telefonbuch-Suche mit:\n",
    "    - Liste von Tupeln (name, nummer)\n",
    "    - Dictionary {name: nummer}\n",
    "    \n",
    "- Vergleiche die Suchzeit\n"
   ]
  },
  {
   "cell_type": "code",
   "execution_count": null,
   "metadata": {},
   "outputs": [],
   "source": [
    "\n"
   ]
  },
  {
   "cell_type": "markdown",
   "metadata": {},
   "source": [
    "#### Aufgabe 2:\n",
    "\n",
    "- Zähle, wie oft Wörter in einem Text vorkommen. Lass dir das Ergebnis als Dictionary ausgeben.\n",
    "- Bei Sonderzeichen im Text, verwende `re`- Modul (`.findall()`)"
   ]
  },
  {
   "cell_type": "code",
   "execution_count": null,
   "metadata": {},
   "outputs": [],
   "source": []
  },
  {
   "cell_type": "markdown",
   "metadata": {},
   "source": [
    "#### Aufgabe 3:\n",
    "\n",
    "- Implementiere eine Notenskala (\"A\", \"B\", ...) mit Dictionary und Liste, und zeige den Unterschied in Zugriffsgeschwindigkeit."
   ]
  },
  {
   "cell_type": "code",
   "execution_count": null,
   "metadata": {},
   "outputs": [],
   "source": []
  },
  {
   "cell_type": "markdown",
   "metadata": {},
   "source": [
    "#### Aufgabe 4: \n",
    "\n",
    "- Zeige, wie ein Dictionary automatisch doppelte Schlüssel überschreibt – im Gegensatz zu einer Liste, wo Duplikate manuell entfernt werden müssen."
   ]
  },
  {
   "cell_type": "code",
   "execution_count": null,
   "metadata": {},
   "outputs": [],
   "source": []
  },
  {
   "cell_type": "markdown",
   "metadata": {},
   "source": [
    "#### Aufgabe 5: \n",
    "\n",
    "- Verwende ein Dictionary mit (x, y)-Koordinaten als Key, um z. B. eine Spielfeldkarte darzustellen.\n",
    "- Implementiere ein Dictionary, das (Vorname, Nachname) als Schlüssel benutzt, um Infos einer Person schnell zu finden."
   ]
  },
  {
   "cell_type": "code",
   "execution_count": null,
   "metadata": {},
   "outputs": [],
   "source": []
  },
  {
   "cell_type": "markdown",
   "metadata": {},
   "source": [
    "#### Aufgabe 6:\n",
    "\n",
    "- Schreibe eine Funktion append_item(x, liste=[]), die x an liste anhängt.\n",
    "\n",
    "- Zeige, wie mehrere Funktionsaufrufe dieselbe Liste verändern.\n",
    "\n",
    "- Schreibe die gleiche Funktion mit None als Default-Wert und vergleiche das Verhalten."
   ]
  },
  {
   "cell_type": "code",
   "execution_count": null,
   "metadata": {},
   "outputs": [],
   "source": []
  },
  {
   "cell_type": "markdown",
   "metadata": {},
   "source": [
    "## 🧮 Numpy"
   ]
  },
  {
   "cell_type": "markdown",
   "metadata": {},
   "source": [
    "#### Aufgabe 1:\n",
    "\n",
    "- Erstelle eine Liste mit 10 Millionen Zahlen.\n",
    "\n",
    "    - Berechne die Summe mit sum().\n",
    "    - Vergleiche mit np.sum()."
   ]
  },
  {
   "cell_type": "code",
   "execution_count": null,
   "metadata": {},
   "outputs": [],
   "source": []
  },
  {
   "cell_type": "markdown",
   "metadata": {},
   "source": [
    "#### Aufgabe 2:\n",
    "\n",
    "- Erstelle eine große Liste und multipliziere jedes Element mit 2.\n",
    "\n",
    "    - Einmal mit List Comprehension\n",
    "    - Einmal mit Numpy Arrays"
   ]
  },
  {
   "cell_type": "code",
   "execution_count": null,
   "metadata": {},
   "outputs": [],
   "source": [
    "\n"
   ]
  },
  {
   "cell_type": "markdown",
   "metadata": {},
   "source": [
    "#### Aufgabe 3:\n",
    "\n",
    "- Implementiere Matrix-Multiplikation für 2D-Listen von Hand.\n",
    "- Vergleiche mit `np.dot()`."
   ]
  },
  {
   "cell_type": "code",
   "execution_count": null,
   "metadata": {},
   "outputs": [],
   "source": []
  },
  {
   "cell_type": "markdown",
   "metadata": {},
   "source": [
    "#### Aufgabe 4:\n",
    "- Berechne die Standardabweichung einer Liste:\n",
    "\n",
    "    - Einmal mit statistics.stdev()\n",
    "    - Einmal mit np.std()\n",
    "\n",
    "- Vergleiche Geschwindigkeit und Genauigkeit"
   ]
  },
  {
   "cell_type": "code",
   "execution_count": null,
   "metadata": {},
   "outputs": [],
   "source": []
  },
  {
   "cell_type": "markdown",
   "metadata": {},
   "source": [
    "## 🐼 Pandas & Numpy"
   ]
  },
  {
   "cell_type": "markdown",
   "metadata": {},
   "source": [
    "#### Aufgabe 1:\n",
    "\n",
    "- Gegeben ist ein Datensatz mit fehlenden Werten. Bearbeite die Daten, indem du:\n",
    "\n",
    "    - Fehlende Werte mit dem Mittelwert der Spalte ersetzt.\n",
    "    - Die Daten nach einem bestimmten Kriterium filterst.\n",
    "    - Eine neue Spalte basierend auf vorhandenen Spalten berechnest."
   ]
  },
  {
   "cell_type": "code",
   "execution_count": null,
   "metadata": {},
   "outputs": [],
   "source": [
    "import pandas as pd\n",
    "import numpy as np\n",
    " \n",
    "df = pd.DataFrame({\n",
    "    \"name\": [\"Anna\", \"Ben\", \"Carla\", \"Daniel\", \"Eva\"],\n",
    "    \"alter\": [23, 25, np.nan, 29, 30],\n",
    "    \"einkommen\": [3000, 3200, 2900, np.nan, 3100]\n",
    "})"
   ]
  },
  {
   "cell_type": "markdown",
   "metadata": {},
   "source": [
    "#### Aufgabe 2:\n",
    "\n",
    "Gegeben ist ein DataFrame mit Verkäufen (Produkt, Datum, Umsatz).\n",
    "\n",
    "- Gruppiere nach Produkt und berechne den durchschnittlichen Umsatz.\n",
    "\n",
    "- Finde das Produkt mit dem höchsten Gesamtumsatz."
   ]
  },
  {
   "cell_type": "code",
   "execution_count": null,
   "metadata": {},
   "outputs": [],
   "source": [
    "sales = pd.DataFrame({\n",
    "    \"produkt\": [\"A\", \"A\", \"B\", \"B\", \"C\"],\n",
    "    \"datum\": pd.date_range(\"2024-01-01\", periods=5),\n",
    "    \"umsatz\": [200, 220, 180, 210, 190]\n",
    "})"
   ]
  },
  {
   "cell_type": "markdown",
   "metadata": {},
   "source": [
    "#### Aufgabe 3: \n",
    "\n",
    "- Erstelle eine Zeitreihe mit Pandas für tägliche Temperaturdaten für 30 Tage (`.date_range()`).\n",
    "\n",
    "- Glätte die Daten mit einem rollenden Mittelwert (rolling mean, Fenstergröße 7).\n",
    "\n",
    "- Identifiziere den wärmsten Wochendurchschnitt."
   ]
  },
  {
   "cell_type": "code",
   "execution_count": null,
   "metadata": {},
   "outputs": [],
   "source": []
  },
  {
   "cell_type": "markdown",
   "metadata": {},
   "source": [
    "#### Aufgabe 4:\n",
    "\n",
    "- Vergleiche die Rechenzeit (z.B. mit timeit) beim Berechnen des Mittelwerts:\n",
    "\n",
    "- Einmal mit einem Pandas Series Objekt.\n",
    "\n",
    "- Einmal mit einem Numpy Array."
   ]
  },
  {
   "cell_type": "code",
   "execution_count": null,
   "metadata": {},
   "outputs": [],
   "source": [
    "\n"
   ]
  },
  {
   "cell_type": "markdown",
   "metadata": {},
   "source": [
    "## 🔥 Pandas vs Polars "
   ]
  },
  {
   "cell_type": "markdown",
   "metadata": {},
   "source": [
    "#### Aufgabe 1:\n",
    "\n",
    "- Installiere Polars mit: `pip install polars`\n",
    "\n",
    "- Installiere Memory-Profiler: `pip install memory-profiler`\n",
    "\n",
    "- Lade die CSV-Datei \"predicted_data_3.csv\" mit Pandas und mit Polars.\n",
    "\n",
    "- Vergleiche die Ladezeit und den Speicherverbrauch."
   ]
  },
  {
   "cell_type": "code",
   "execution_count": null,
   "metadata": {},
   "outputs": [],
   "source": []
  },
  {
   "cell_type": "markdown",
   "metadata": {},
   "source": [
    "#### Aufgabe 2:\n",
    "\n",
    "- Gruppiere den Datensatz nach Bundesland (\"blid\") und berechne den Mittelwert für die Miete (\"rent_sqm\").\n",
    "\n",
    "- Führe dies mit Pandas und Polars durch und vergleiche die Dauer."
   ]
  },
  {
   "cell_type": "code",
   "execution_count": null,
   "metadata": {},
   "outputs": [],
   "source": []
  },
  {
   "cell_type": "markdown",
   "metadata": {},
   "source": [
    "#### Aufgabe 3: \n",
    "\n",
    "- Erstelle eine neue Spalte (\"difference\"), die die Differenz aus Kaltmiete ('mietekalt') und vorhergesagter Miete ('predicted_mietekalt'), indem du die Kaltmiete von der vorhergesagten Miete abziehst.\n",
    "\n",
    "- Mache das einmal mit Pandas, einmal mit Polars."
   ]
  },
  {
   "cell_type": "code",
   "execution_count": null,
   "metadata": {},
   "outputs": [],
   "source": []
  },
  {
   "cell_type": "markdown",
   "metadata": {},
   "source": [
    "#### Aufgabe 4:\n",
    "\n",
    "- Sortiere die Spalte \"predicted_mietekalt\" mit absteigenden Werten.\n",
    "\n",
    "- Vergleiche, wie lange das mit Pandas vs. Polars dauert."
   ]
  },
  {
   "cell_type": "code",
   "execution_count": null,
   "metadata": {},
   "outputs": [],
   "source": []
  },
  {
   "cell_type": "markdown",
   "metadata": {},
   "source": [
    "## ⚡️ Dask vs Pandas"
   ]
  },
  {
   "cell_type": "markdown",
   "metadata": {},
   "source": [
    "#### Aufgabe 1:\n",
    "\n",
    "- Verwende Dask zum Laden der CSV-Datei \"skincancer\" und berechne den Mittelwert der Spalte \"age\".\n",
    "\n",
    "- Vergleiche die Laufzeit mit Pandas."
   ]
  },
  {
   "cell_type": "code",
   "execution_count": null,
   "metadata": {},
   "outputs": [],
   "source": [
    "\n"
   ]
  },
  {
   "cell_type": "markdown",
   "metadata": {},
   "source": [
    "#### Aufgabe 2:\n",
    "\n",
    "- Zeige, wie Dask Tasks parallel ausführt (z.B. mit dem Dask Dashboard)."
   ]
  },
  {
   "cell_type": "code",
   "execution_count": null,
   "metadata": {},
   "outputs": [],
   "source": []
  }
 ],
 "metadata": {
  "kernelspec": {
   "display_name": "Python 3",
   "language": "python",
   "name": "python3"
  },
  "language_info": {
   "codemirror_mode": {
    "name": "ipython",
    "version": 3
   },
   "file_extension": ".py",
   "mimetype": "text/x-python",
   "name": "python",
   "nbconvert_exporter": "python",
   "pygments_lexer": "ipython3",
   "version": "3.13.0"
  }
 },
 "nbformat": 4,
 "nbformat_minor": 2
}
