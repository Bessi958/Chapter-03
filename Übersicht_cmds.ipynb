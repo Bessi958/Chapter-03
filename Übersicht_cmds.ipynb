{
 "cells": [
  {
   "cell_type": "markdown",
   "metadata": {},
   "source": [
    "### **Typische Operatoren der verschiedenen Data Structures** "
   ]
  },
  {
   "cell_type": "markdown",
   "metadata": {},
   "source": [
    "### Lists"
   ]
  },
  {
   "cell_type": "markdown",
   "metadata": {},
   "source": [
    "- append()- Fügt ein Element ans Ende der Liste an.\n",
    "- extend() - Fügt alle Elemente eines Iterables (z.B. Lists) an das Ende der Liste hinzu.\n",
    "- remove() - Entfernt das erste Vorkommen eines Elements.\n",
    "- pop() - Entfernt ein Element an einer bestimmten Position (Index).\n",
    "- sort() - Sortiert die Liste.\n",
    "- index() - Gibt den Index des ersten Vorkommens eines Elements zurück."
   ]
  },
  {
   "cell_type": "markdown",
   "metadata": {},
   "source": [
    "### Tuples"
   ]
  },
  {
   "cell_type": "markdown",
   "metadata": {},
   "source": [
    "- count() - Gibt die Anzahl der Vorkommen eines Elements im Tuple zurück.\n",
    "- index() - Gibt den Index des ersten Vorkommens eines Elements zurück.\n",
    "- len() - Gibt die Anzahl der Elemente im Tuple zurück. \n",
    "- tuple() - Wandelt ein Iterable in ein Tuple um."
   ]
  },
  {
   "cell_type": "markdown",
   "metadata": {},
   "source": [
    "### Dictionaries"
   ]
  },
  {
   "cell_type": "markdown",
   "metadata": {},
   "source": [
    "- get() - Gibt den Wert zu einem Key zurück. \n",
    "- keys() - Gibt eine Ansicht aller Werte zurück.\n",
    "- values() - Gibt eine Ansicht aller Werte zurück.\n",
    "- items() - Gibt eine Ansicht aller Schlüssel-Wert-Paare zurück.\n",
    "- pop() - Entfernt das Schlüssel-Wert-Paar und gibt seinen Wert zurück."
   ]
  },
  {
   "cell_type": "markdown",
   "metadata": {},
   "source": [
    "### Sets"
   ]
  },
  {
   "cell_type": "markdown",
   "metadata": {},
   "source": [
    "- add() - Fügt ein Element zum Set hinzu (falls nicht vorhanden).\n",
    "- remove() - Enfernt ein Element aus dem Set (Fehler, falls nicht vorhanden).\n",
    "- discard() - Enfernt ein Element aus dem Set (kein Fehler, falls nicht vorhanden).\n",
    "- union() - Gibt die Vereinigung zweier Sets zurück.\n",
    "- intersection() - Gibt die Schnittmenge zweier Sets zurück."
   ]
  },
  {
   "cell_type": "markdown",
   "metadata": {},
   "source": [
    "### NumPy arrays"
   ]
  },
  {
   "cell_type": "markdown",
   "metadata": {},
   "source": [
    "- np.array() - Erstellt ein NumPy-Array.\n",
    "- np.reshape() - Ändert die Form des Arrays.\n",
    "- np.mean() - Berechnet den Durchschnittswert des Arrays. \n",
    "- np.sum() - Gibt die Summe aller Elemente im Array zurück.\n",
    "- np.argmax() - Gibt den Index des größten Wertes im Array zurück.\n",
    "- np.arange() - Erzeugt ein NumPy-Array mit Werten in einem bestimmten Bereich (ähnlich wie range())."
   ]
  },
  {
   "cell_type": "markdown",
   "metadata": {},
   "source": [
    "### pandas DataFrames"
   ]
  },
  {
   "cell_type": "markdown",
   "metadata": {},
   "source": [
    "- df.head() - Zeigt die ersten 5 Zeilen an.\n",
    "- df.tail() - Zeigt die letzten 5 Zeilen an.\n",
    "- df.info() - Gibt eine Übersicht über die Spalten und Datentypen.\n",
    "- df.describe() - Zeigt statistische Kennzahlen für numerische Spalten.\n",
    "- df.groupby() - Gruppiert Daten nach einer Spalte.\n",
    "- df.loc[] / df.iloc[] - Greift auf spezifische Zeilen und Spalten zu."
   ]
  },
  {
   "cell_type": "markdown",
   "metadata": {},
   "source": []
  }
 ],
 "metadata": {
  "language_info": {
   "name": "python"
  }
 },
 "nbformat": 4,
 "nbformat_minor": 2
}
